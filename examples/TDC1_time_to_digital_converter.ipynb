{
 "cells": [
  {
   "cell_type": "code",
   "execution_count": 89,
   "metadata": {},
   "outputs": [],
   "source": [
    "from S15lib.instruments import TimeStampTDC1\n",
    "import numpy as np"
   ]
  },
  {
   "cell_type": "markdown",
   "metadata": {},
   "source": [
    "# Setup device, count singles and acquire timestamps"
   ]
  },
  {
   "cell_type": "code",
   "execution_count": 91,
   "metadata": {},
   "outputs": [
    {
     "name": "stdout",
     "output_type": "stream",
     "text": [
      "2.0\n",
      "singles\n",
      "[4, 0, 0, 0]\n",
      "28 Bytes Recorded\n"
     ]
    }
   ],
   "source": [
    "dev = TimeStampTDC1('/dev/tty.usbmodemTDC1_00141') # user your own device\n",
    "dev.int_time = 2 # 2 seconds of integration time\n",
    "print(dev.int_time)\n",
    "print(dev.mode)\n",
    "print(dev.get_singles())\n",
    "times_ns, event_channels = dev.get_timestamps(1) # acquire timstamps for 1 s.\n"
   ]
  },
  {
   "cell_type": "markdown",
   "metadata": {},
   "source": [
    "# Arrival time correlations"
   ]
  },
  {
   "cell_type": "code",
   "execution_count": 4,
   "metadata": {},
   "outputs": [
    {
     "name": "stdout",
     "output_type": "stream",
     "text": [
      "use python readevents\n",
      "28 Bytes Recorded\n",
      "{'channel1': 1, 'channel2': 0, 'total_time': 172042232}\n",
      "[  0   2   4   6   8  10  12  14  16  18  20  22  24  26  28  30  32  34\n",
      "  36  38  40  42  44  46  48  50  52  54  56  58  60  62  64  66  68  70\n",
      "  72  74  76  78  80  82  84  86  88  90  92  94  96  98 100 102 104 106\n",
      " 108 110 112 114 116 118 120 122 124 126 128 130 132 134 136 138 140 142\n",
      " 144 146 148 150 152 154 156 158 160 162 164 166 168 170 172 174 176 178\n",
      " 180 182 184 186 188 190 192 194 196 198 200 202 204 206 208 210 212 214\n",
      " 216 218 220 222 224 226 228 230 232 234 236 238 240 242 244 246 248 250\n",
      " 252 254 256 258 260 262 264 266 268 270 272 274 276 278 280 282 284 286\n",
      " 288 290 292 294 296 298 300 302 304 306 308 310 312 314 316 318 320 322\n",
      " 324 326 328 330 332 334 336 338 340 342 344 346 348 350 352 354 356 358\n",
      " 360 362 364 366 368 370 372 374 376 378 380 382 384 386 388 390 392 394\n",
      " 396 398 400 402 404 406 408 410 412 414 416 418 420 422 424 426 428 430\n",
      " 432 434 436 438 440 442 444 446 448 450 452 454 456 458 460 462 464 466\n",
      " 468 470 472 474 476 478 480 482 484 486 488 490 492 494 496 498 500 502\n",
      " 504 506 508 510 512 514 516 518 520 522 524 526 528 530 532 534 536 538\n",
      " 540 542 544 546 548 550 552 554 556 558 560 562 564 566 568 570 572 574\n",
      " 576 578 580 582 584 586 588 590 592 594 596 598 600 602 604 606 608 610\n",
      " 612 614 616 618 620 622 624 626 628 630 632 634 636 638 640 642 644 646\n",
      " 648 650 652 654 656 658 660 662 664 666 668 670 672 674 676 678 680 682\n",
      " 684 686 688 690 692 694 696 698 700 702 704 706 708 710 712 714 716 718\n",
      " 720 722 724 726 728 730 732 734 736 738 740 742 744 746 748 750 752 754\n",
      " 756 758 760 762 764 766 768 770 772 774 776 778 780 782 784 786 788 790\n",
      " 792 794 796 798 800 802 804 806 808 810 812 814 816 818 820 822 824 826\n",
      " 828 830 832 834 836 838 840 842 844 846 848 850 852 854 856 858 860 862\n",
      " 864 866 868 870 872 874 876 878 880 882 884 886 888 890 892 894 896 898\n",
      " 900 902 904 906 908 910 912 914 916 918 920 922 924 926 928 930 932 934\n",
      " 936 938 940 942 944 946 948 950 952 954 956 958 960 962 964 966 968 970\n",
      " 972 974 976 978 980 982 984 986 988 990 992 994 996 998] [0. 0. 0. 0. 0. 0. 0. 0. 0. 0. 0. 0. 0. 0. 0. 0. 0. 0. 0. 0. 0. 0. 0. 0.\n",
      " 0. 0. 0. 0. 0. 0. 0. 0. 0. 0. 0. 0. 0. 0. 0. 0. 0. 0. 0. 0. 0. 0. 0. 0.\n",
      " 0. 0. 0. 0. 0. 0. 0. 0. 0. 0. 0. 0. 0. 0. 0. 0. 0. 0. 0. 0. 0. 0. 0. 0.\n",
      " 0. 0. 0. 0. 0. 0. 0. 0. 0. 0. 0. 0. 0. 0. 0. 0. 0. 0. 0. 0. 0. 0. 0. 0.\n",
      " 0. 0. 0. 0. 0. 0. 0. 0. 0. 0. 0. 0. 0. 0. 0. 0. 0. 0. 0. 0. 0. 0. 0. 0.\n",
      " 0. 0. 0. 0. 0. 0. 0. 0. 0. 0. 0. 0. 0. 0. 0. 0. 0. 0. 0. 0. 0. 0. 0. 0.\n",
      " 0. 0. 0. 0. 0. 0. 0. 0. 0. 0. 0. 0. 0. 0. 0. 0. 0. 0. 0. 0. 0. 0. 0. 0.\n",
      " 0. 0. 0. 0. 0. 0. 0. 0. 0. 0. 0. 0. 0. 0. 0. 0. 0. 0. 0. 0. 0. 0. 0. 0.\n",
      " 0. 0. 0. 0. 0. 0. 0. 0. 0. 0. 0. 0. 0. 0. 0. 0. 0. 0. 0. 0. 0. 0. 0. 0.\n",
      " 0. 0. 0. 0. 0. 0. 0. 0. 0. 0. 0. 0. 0. 0. 0. 0. 0. 0. 0. 0. 0. 0. 0. 0.\n",
      " 0. 0. 0. 0. 0. 0. 0. 0. 0. 0. 0. 0. 0. 0. 0. 0. 0. 0. 0. 0. 0. 0. 0. 0.\n",
      " 0. 0. 0. 0. 0. 0. 0. 0. 0. 0. 0. 0. 0. 0. 0. 0. 0. 0. 0. 0. 0. 0. 0. 0.\n",
      " 0. 0. 0. 0. 0. 0. 0. 0. 0. 0. 0. 0. 0. 0. 0. 0. 0. 0. 0. 0. 0. 0. 0. 0.\n",
      " 0. 0. 0. 0. 0. 0. 0. 0. 0. 0. 0. 0. 0. 0. 0. 0. 0. 0. 0. 0. 0. 0. 0. 0.\n",
      " 0. 0. 0. 0. 0. 0. 0. 0. 0. 0. 0. 0. 0. 0. 0. 0. 0. 0. 0. 0. 0. 0. 0. 0.\n",
      " 0. 0. 0. 0. 0. 0. 0. 0. 0. 0. 0. 0. 0. 0. 0. 0. 0. 0. 0. 0. 0. 0. 0. 0.\n",
      " 0. 0. 0. 0. 0. 0. 0. 0. 0. 0. 0. 0. 0. 0. 0. 0. 0. 0. 0. 0. 0. 0. 0. 0.\n",
      " 0. 0. 0. 0. 0. 0. 0. 0. 0. 0. 0. 0. 0. 0. 0. 0. 0. 0. 0. 0. 0. 0. 0. 0.\n",
      " 0. 0. 0. 0. 0. 0. 0. 0. 0. 0. 0. 0. 0. 0. 0. 0. 0. 0. 0. 0. 0. 0. 0. 0.\n",
      " 0. 0. 0. 0. 0. 0. 0. 0. 0. 0. 0. 0. 0. 0. 0. 0. 0. 0. 0. 0. 0. 0. 0. 0.\n",
      " 0. 0. 0. 0. 0. 0. 0. 0. 0. 0. 0. 0. 0. 0. 0. 0. 0. 0. 0. 0.]\n"
     ]
    }
   ],
   "source": [
    "info, t, histo = dev.count_g2(1)\n",
    "print(info)\n",
    "print(t, histo)"
   ]
  },
  {
   "cell_type": "markdown",
   "metadata": {},
   "source": [
    "# Get timestamps"
   ]
  },
  {
   "cell_type": "code",
   "execution_count": 92,
   "metadata": {},
   "outputs": [
    {
     "name": "stdout",
     "output_type": "stream",
     "text": [
      "28 Bytes Recorded\n",
      "67112824 0b10001\n",
      "3960 0b10001\n",
      "1\n",
      "23482717 0b1\n",
      "3960 0b10001\n",
      "2\n",
      "67112824 0b10001\n",
      "3960 0b10001\n",
      "3\n",
      "5058517 0b1\n",
      "[0.31540089 0.8154234 ] [1, 1]\n"
     ]
    }
   ],
   "source": [
    "acq_time = 1\n",
    "cmd = '*RST;' + 'NIM;' + 'time ' + str(acq_time * 1000) + ';timestamp;counts?'\n",
    "buffer = dev._com._stream_response_into_buffer(cmd, acq_time + 0.1)\n",
    "bytes_hex = buffer[::-1].hex()\n",
    "\n",
    "ts_word_list = [int(bytes_hex[i:i + 8], 16) for i in range(0, len(bytes_hex), 8)][::-1]\n",
    "\n",
    "ts_list = []\n",
    "pattern_list = []\n",
    "periode_count = 0\n",
    "periode_duration = 1<<27\n",
    "prev_ts = -1\n",
    "for ts_word in ts_word_list:\n",
    "    time_stamp = (ts_word) >> 5\n",
    "    pattern = ts_word & 0x1f\n",
    "#     print(bin(ts_word), bin(pattern))\n",
    "    print(time_stamp, bin(pattern))\n",
    "\n",
    "    if prev_ts != -1 and time_stamp < prev_ts: #or ((prev_pattern & 0x10) == 0 and time_stamp == 67112824)):\n",
    "            periode_count +=1\n",
    "            print(periode_count)\n",
    "    prev_ts = time_stamp\n",
    "#     prev_pattern = pattern\n",
    "    if pattern & 0x10 == 0:\n",
    "        ts_list.append(time_stamp + periode_duration * periode_count)\n",
    "        pattern_list.append(pattern)\n",
    "\n",
    "# ts_list = list(map(lambda x: x*2, ts_list))\n",
    "ts_list = np.array(ts_list) * 2\n",
    "print(ts_list * 1e-9, pattern_list)"
   ]
  },
  {
   "cell_type": "code",
   "execution_count": 94,
   "metadata": {},
   "outputs": [
    {
     "data": {
      "text/plain": [
       "9"
      ]
     },
     "execution_count": 94,
     "metadata": {},
     "output_type": "execute_result"
    }
   ],
   "source": [
    "dev._com.write(b'timestamp')"
   ]
  },
  {
   "cell_type": "code",
   "execution_count": 47,
   "metadata": {},
   "outputs": [
    {
     "data": {
      "text/plain": [
       "34"
      ]
     },
     "execution_count": 47,
     "metadata": {},
     "output_type": "execute_result"
    }
   ],
   "source": [
    "len('0b10000000000000011110111100010001')"
   ]
  },
  {
   "cell_type": "code",
   "execution_count": 77,
   "metadata": {},
   "outputs": [
    {
     "data": {
      "text/plain": [
       "'8001ef11'"
      ]
     },
     "execution_count": 77,
     "metadata": {},
     "output_type": "execute_result"
    }
   ],
   "source": [
    "format(((67112824 << 5) + 0x11), 'x')"
   ]
  },
  {
   "cell_type": "code",
   "execution_count": 66,
   "metadata": {},
   "outputs": [
    {
     "data": {
      "text/plain": [
       "True"
      ]
     },
     "execution_count": 66,
     "metadata": {},
     "output_type": "execute_result"
    }
   ],
   "source": [
    "48845117 < 67112824"
   ]
  },
  {
   "cell_type": "code",
   "execution_count": null,
   "metadata": {},
   "outputs": [],
   "source": []
  }
 ],
 "metadata": {
  "kernelspec": {
   "display_name": "Python 3",
   "language": "python",
   "name": "python3"
  },
  "language_info": {
   "codemirror_mode": {
    "name": "ipython",
    "version": 3
   },
   "file_extension": ".py",
   "mimetype": "text/x-python",
   "name": "python",
   "nbconvert_exporter": "python",
   "pygments_lexer": "ipython3",
   "version": "3.8.3"
  },
  "toc": {
   "base_numbering": 1,
   "nav_menu": {},
   "number_sections": true,
   "sideBar": true,
   "skip_h1_title": false,
   "title_cell": "Table of Contents",
   "title_sidebar": "Contents",
   "toc_cell": false,
   "toc_position": {},
   "toc_section_display": true,
   "toc_window_display": false
  }
 },
 "nbformat": 4,
 "nbformat_minor": 4
}
