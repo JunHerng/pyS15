{
 "cells": [
  {
   "cell_type": "code",
   "execution_count": 47,
   "metadata": {},
   "outputs": [],
   "source": [
    "from S15lib.instruments import TimeStampTDC1\n",
    "import matplotlib.pyplot as plt\n",
    "import numpy as np"
   ]
  },
  {
   "cell_type": "markdown",
   "metadata": {},
   "source": [
    "# Setup device, count singles"
   ]
  },
  {
   "cell_type": "code",
   "execution_count": 52,
   "metadata": {},
   "outputs": [
    {
     "name": "stdout",
     "output_type": "stream",
     "text": [
      "Counts in channels:  (99996, 0, 0, 99995)\n"
     ]
    }
   ],
   "source": [
    "dev = TimeStampTDC1('/dev/tty.usbmodemTDC1_00121') # user your own device\n",
    "dev.level = dev.TTL_LEVELS\n",
    "print('Counts in channels: ', dev.get_counts(1))"
   ]
  },
  {
   "cell_type": "markdown",
   "metadata": {},
   "source": [
    "# Event time correlations"
   ]
  },
  {
   "cell_type": "code",
   "execution_count": 50,
   "metadata": {},
   "outputs": [
    {
     "data": {
      "text/plain": [
       "(0.0, 100.0)"
      ]
     },
     "execution_count": 50,
     "metadata": {},
     "output_type": "execute_result"
    },
    {
     "data": {
      "image/png": "[encoded data removed]",
      "text/plain": [
       "<Figure size 432x288 with 1 Axes>"
      ]
     },
     "metadata": {
      "needs_background": "light"
     },
     "output_type": "display_data"
    }
   ],
   "source": [
    "dev.level = dev.TTL_LEVELS\n",
    "info = dev.count_g2(2)\n",
    "\n",
    "plt.figure()\n",
    "plt.plot(info['time_bins'], info['histogram'], 'o-')\n",
    "plt.xlabel('Detection time difference (ns)')\n",
    "plt.ylabel('Coincidences')\n",
    "plt.xlim(0, 100)\n"
   ]
  },
  {
   "cell_type": "markdown",
   "metadata": {},
   "source": [
    "# Get timestamps"
   ]
  },
  {
   "cell_type": "code",
   "execution_count": 92,
   "metadata": {},
   "outputs": [
    {
     "name": "stdout",
     "output_type": "stream",
     "text": [
      "28 Bytes Recorded\n",
      "67112824 0b10001\n",
      "3960 0b10001\n",
      "1\n",
      "23482717 0b1\n",
      "3960 0b10001\n",
      "2\n",
      "67112824 0b10001\n",
      "3960 0b10001\n",
      "3\n",
      "5058517 0b1\n",
      "[0.31540089 0.8154234 ] [1, 1]\n"
     ]
    }
   ],
   "source": [
    "acq_time = 1\n",
    "cmd = '*RST;' + 'NIM;' + 'time ' + str(acq_time * 1000) + ';timestamp;counts?'\n",
    "buffer = dev._com._stream_response_into_buffer(cmd, acq_time + 0.1)\n",
    "bytes_hex = buffer[::-1].hex()\n",
    "\n",
    "ts_word_list = [int(bytes_hex[i:i + 8], 16) for i in range(0, len(bytes_hex), 8)][::-1]\n",
    "\n",
    "ts_list = []\n",
    "pattern_list = []\n",
    "periode_count = 0\n",
    "periode_duration = 1<<27\n",
    "prev_ts = -1\n",
    "for ts_word in ts_word_list:\n",
    "    time_stamp = (ts_word) >> 5\n",
    "    pattern = ts_word & 0x1f\n",
    "#     print(bin(ts_word), bin(pattern))\n",
    "    print(time_stamp, bin(pattern))\n",
    "\n",
    "    if prev_ts != -1 and time_stamp < prev_ts: #or ((prev_pattern & 0x10) == 0 and time_stamp == 67112824)):\n",
    "            periode_count +=1\n",
    "            print(periode_count)\n",
    "    prev_ts = time_stamp\n",
    "#     prev_pattern = pattern\n",
    "    if pattern & 0x10 == 0:\n",
    "        ts_list.append(time_stamp + periode_duration * periode_count)\n",
    "        pattern_list.append(pattern)\n",
    "\n",
    "# ts_list = list(map(lambda x: x*2, ts_list))\n",
    "ts_list = np.array(ts_list) * 2\n",
    "print(ts_list * 1e-9, pattern_list)"
   ]
  },
  {
   "cell_type": "code",
   "execution_count": 94,
   "metadata": {},
   "outputs": [
    {
     "data": {
      "text/plain": [
       "9"
      ]
     },
     "execution_count": 94,
     "metadata": {},
     "output_type": "execute_result"
    }
   ],
   "source": [
    "dev._com.write(b'timestamp')"
   ]
  },
  {
   "cell_type": "code",
   "execution_count": 47,
   "metadata": {},
   "outputs": [
    {
     "data": {
      "text/plain": [
       "34"
      ]
     },
     "execution_count": 47,
     "metadata": {},
     "output_type": "execute_result"
    }
   ],
   "source": [
    "len('0b10000000000000011110111100010001')"
   ]
  },
  {
   "cell_type": "code",
   "execution_count": 77,
   "metadata": {},
   "outputs": [
    {
     "data": {
      "text/plain": [
       "'8001ef11'"
      ]
     },
     "execution_count": 77,
     "metadata": {},
     "output_type": "execute_result"
    }
   ],
   "source": [
    "format(((67112824 << 5) + 0x11), 'x')"
   ]
  },
  {
   "cell_type": "code",
   "execution_count": 66,
   "metadata": {},
   "outputs": [
    {
     "data": {
      "text/plain": [
       "True"
      ]
     },
     "execution_count": 66,
     "metadata": {},
     "output_type": "execute_result"
    }
   ],
   "source": [
    "48845117 < 67112824"
   ]
  },
  {
   "cell_type": "code",
   "execution_count": null,
   "metadata": {},
   "outputs": [],
   "source": []
  }
 ],
 "metadata": {
  "kernelspec": {
   "display_name": "Python 3",
   "language": "python",
   "name": "python3"
  },
  "language_info": {
   "codemirror_mode": {
    "name": "ipython",
    "version": 3
   },
   "file_extension": ".py",
   "mimetype": "text/x-python",
   "name": "python",
   "nbconvert_exporter": "python",
   "pygments_lexer": "ipython3",
   "version": "3.9.2"
  },
  "toc": {
   "base_numbering": 1,
   "nav_menu": {},
   "number_sections": true,
   "sideBar": true,
   "skip_h1_title": false,
   "title_cell": "Table of Contents",
   "title_sidebar": "Contents",
   "toc_cell": false,
   "toc_position": {},
   "toc_section_display": true,
   "toc_window_display": false
  }
 },
 "nbformat": 4,
 "nbformat_minor": 4
}
